{
 "cells": [
  {
   "cell_type": "code",
   "execution_count": 1,
   "id": "abaedd10-6306-45bf-8134-becd1e95c52e",
   "metadata": {},
   "outputs": [],
   "source": [
    "import pandas as pd\n",
    "import numpy as np\n",
    "df=pd.read_csv('C:/Users/sumit/Desktop/jupyter notebook/cleaned_dataset.csv')"
   ]
  },
  {
   "cell_type": "code",
   "execution_count": 2,
   "id": "261a7748-14c5-40d9-9c72-c65bc5dad0cc",
   "metadata": {},
   "outputs": [],
   "source": [
    "from textblob import TextBlob\n",
    "\n",
    "df['sentiment'] = df['content'].apply(lambda x: TextBlob(x).sentiment.polarity)"
   ]
  },
  {
   "cell_type": "code",
   "execution_count": 3,
   "id": "dd9a90b4-7735-494e-9a41-fa1339f10225",
   "metadata": {},
   "outputs": [],
   "source": [
    "import re\n",
    "def mentions_someone(text):\n",
    "    return int(bool(re.search(r'<mention>', text)))\n",
    "df['mentions_anyone'] = df['content'].apply(mentions_someone)"
   ]
  },
  {
   "cell_type": "code",
   "execution_count": 4,
   "id": "fbc52019-5568-4684-8947-ee1c575c1d31",
   "metadata": {},
   "outputs": [],
   "source": [
    "df['hashtag_count'] = df['content'].apply(lambda x: len(re.findall(r'#\\w+', x)))"
   ]
  },
  {
   "cell_type": "code",
   "execution_count": 5,
   "id": "7cf72196-b986-40d4-8101-5234bccc94b6",
   "metadata": {},
   "outputs": [],
   "source": [
    "from vaderSentiment.vaderSentiment import SentimentIntensityAnalyzer\n",
    "analyzer = SentimentIntensityAnalyzer()\n",
    "df['vader_sentiment'] = df['content'].apply(lambda x: analyzer.polarity_scores(str(x))['compound'])"
   ]
  },
  {
   "cell_type": "code",
   "execution_count": 6,
   "id": "e06b7b55-7626-4b05-a76b-85bf6036a90e",
   "metadata": {},
   "outputs": [],
   "source": [
    "import datetime\n",
    "df['datetime']=pd.to_datetime(df['datetime'])\n",
    "df['hour']=df['datetime'].dt.hour"
   ]
  },
  {
   "cell_type": "code",
   "execution_count": 9,
   "id": "2ad4e986-ca7f-47bd-b7c1-f2b5ef5f233d",
   "metadata": {},
   "outputs": [],
   "source": [
    "numeric_features = ['word_count', 'char_count', 'hour', 'sentiment', \n",
    "                   'hashtag_count', 'vader_sentiment']\n",
    "categorical_features = ['has_media', 'mentions_anyone', 'company_encoded']"
   ]
  },
  {
   "cell_type": "code",
   "execution_count": 10,
   "id": "6772f4a1-103b-4ccf-b9c5-e516d9782cb7",
   "metadata": {},
   "outputs": [],
   "source": [
    "df[\"log1p\"]=np.log1p(df[\"likes\"])"
   ]
  },
  {
   "cell_type": "code",
   "execution_count": 11,
   "id": "2a8f054f-a0ab-44d1-9dc6-17b79a29dc62",
   "metadata": {},
   "outputs": [],
   "source": [
    "from sklearn.preprocessing import LabelEncoder\n",
    "\n",
    "le = LabelEncoder()\n",
    "df['company_encoded'] = le.fit_transform(df['inferred company'])"
   ]
  },
  {
   "cell_type": "code",
   "execution_count": null,
   "id": "e3b393a8-d347-4592-b56c-c951a799ba0a",
   "metadata": {},
   "outputs": [],
   "source": [
    "from sklearn.ensemble import RandomForestRegressor\n",
    "model = RandomForestRegressor(n_jobs=-1, random_state=42)\n",
    "from sklearn.model_selection import RandomizedSearchCV\n",
    "\n",
    "param_dist = {\n",
    "    'n_estimators': [100, 200, 300],\n",
    "    'max_depth': [3, 5, 7, 15, None],\n",
    "    'min_samples_split': [2, 5, 10],\n",
    "    'max_features': ['sqrt', 'log2', None],\n",
    "    'bootstrap': [True, False]\n",
    "}\n",
    "\n",
    "search = RandomizedSearchCV(\n",
    "    model, \n",
    "    param_distributions=param_dist,\n",
    "    n_iter=20,\n",
    "    cv=3,\n",
    "    scoring='neg_mean_squared_error',\n",
    "    random_state=42,\n",
    "    n_jobs=-1\n",
    ")\n",
    "from sklearn.model_selection import train_test_split\n",
    "X = df[numeric_features + categorical_features]\n",
    "y = df['log1p']\n",
    "X_train, X_test, y_train, y_test = train_test_split(X, y, test_size=0.2, random_state=42)\n",
    "# training\n",
    "search.fit(X_train, y_train)\n",
    "best_model = search.best_estimator_\n",
    "# Evaluation\n",
    "preds = best_model.predict(X_test)\n",
    "from sklearn.metrics import mean_squared_error\n",
    "rmse = mean_squared_error(np.expm1(y_test),np.expm1(preds))\n",
    "print(\"RMSE:\", rmse)"
   ]
  },
  {
   "cell_type": "code",
   "execution_count": null,
   "id": "d3ee4605-a472-48f6-9dc3-4890b4736f39",
   "metadata": {},
   "outputs": [],
   "source": [
    "import joblib\n",
    "joblib.dump(model, 'model1.pkl')\n",
    "\n",
    "from flask import Flask, request, jsonify\n",
    "import joblib\n",
    "import pandas as pd\n",
    "import numpy as np\n",
    "\n",
    "app = Flask(__name__)\n",
    "\n",
    "# Load the model\n",
    "model1 = joblib.load('model1.pkl')\n",
    "\n",
    "@app.route('/predict', methods=['POST'])\n",
    "def predict():\n",
    "    try:\n",
    "        # Get JSON data from request\n",
    "        data = request.get_json(force=True)\n",
    "        \n",
    "        # Convert to DataFrame (assuming same structure as training)\n",
    "        input_data = pd.DataFrame(data, index=[0])\n",
    "        \n",
    "        # Make prediction\n",
    "        prediction = model1.predict(input_data)\n",
    "        \n",
    "        # Prepare response\n",
    "        response = {\n",
    "            'prediction': prediction.tolist(),\n",
    "            'status': 'success'\n",
    "        }\n",
    "        \n",
    "        return jsonify(response)\n",
    "    \n",
    "    except Exception as e:\n",
    "        return jsonify({'status': 'error', 'message': str(e)})\n",
    "\n",
    "@app.route('/')\n",
    "def home():\n",
    "    return \"Like Predictor Model API - Send POST requests to /predict\"\n",
    "\n",
    "if __name__ == '__main__':\n",
    "    app.run(host='0.0.0.0', port=5000, debug=True)"
   ]
  },
  {
   "cell_type": "code",
   "execution_count": null,
   "id": "a89b6753-b8e5-4b8e-9c2a-f665caaf5d87",
   "metadata": {},
   "outputs": [],
   "source": []
  }
 ],
 "metadata": {
  "kernelspec": {
   "display_name": "Python 3 (ipykernel)",
   "language": "python",
   "name": "python3"
  },
  "language_info": {
   "codemirror_mode": {
    "name": "ipython",
    "version": 3
   },
   "file_extension": ".py",
   "mimetype": "text/x-python",
   "name": "python",
   "nbconvert_exporter": "python",
   "pygments_lexer": "ipython3",
   "version": "3.12.4"
  }
 },
 "nbformat": 4,
 "nbformat_minor": 5
}
